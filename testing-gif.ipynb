{
 "cells": [
  {
   "cell_type": "markdown",
   "source": [
    "\n",
    "![](https://github.com/andretiagogr/TA-cartografia-COVID-19/raw/master/covid-animacao.gif)"
   ],
   "metadata": {
    "collapsed": false,
    "pycharm": {
     "name": "#%% md\n"
    }
   }
  },
  {
   "cell_type": "raw",
   "source": [
    "\n",
    "<img src=\"https://github.com/andretiagogr/TA-cartografia-COVID-19/raw/master/covid-animacao.gif\" />\n"
   ],
   "metadata": {
    "collapsed": false,
    "pycharm": {
     "name": "#%% raw\n"
    }
   }
  }
 ],
 "metadata": {
  "kernelspec": {
   "name": "pycharm-dd92971",
   "language": "python",
   "display_name": "PyCharm (Trabalho)"
  },
  "language_info": {
   "codemirror_mode": {
    "name": "ipython",
    "version": 2
   },
   "file_extension": ".py",
   "mimetype": "text/x-python",
   "name": "python",
   "nbconvert_exporter": "python",
   "pygments_lexer": "ipython2",
   "version": "2.7.6"
  }
 },
 "nbformat": 4,
 "nbformat_minor": 0
}